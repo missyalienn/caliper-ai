{
  "cells": [
    {
      "cell_type": "markdown",
      "metadata": {},
      "source": [
        "# 🔧 Caliper-AI: DIY Assistant Demo\n",
        "\n",
        "This notebook demonstrates the complete RAG (Retrieval-Augmented Generation) system for DIY project assistance.\n",
        "\n",
        "## What This Demo Shows\n",
        "1. **Load DIY data** from CSV\n",
        "2. **Setup ChromaDB** collection\n",
        "3. **Generate embeddings** for semantic search\n",
        "4. **Query the system** for relevant DIY guidance\n",
        "\n",
        "## System Architecture\n",
        "- **Data Source**: CSV with DIY Q&As\n",
        "- **Vector Database**: ChromaDB for semantic search\n",
        "- **Embeddings**: Mock OpenAI-style vectors\n",
        "- **Query System**: RAG-based content retrieval\n"
      ]
    },
    {
      "cell_type": "markdown",
      "metadata": {},
      "source": [
        "## Step 1: Load DIY Data\n",
        "Load DIY snippets from CSV and prepare for ChromaDB storage.\n"
      ]
    },
    {
      "cell_type": "code",
      "execution_count": null,
      "metadata": {},
      "outputs": [],
      "source": [
        "# Import the data ingestion module\n",
        "import sys\n",
        "sys.path.append('../scripts')\n",
        "from ingest_data import load_diy_data\n",
        "\n",
        "# Load DIY data\n",
        "print(\"📁 Loading DIY data...\")\n",
        "documents = load_diy_data(\"../data/diy_snippets.csv\")\n",
        "\n",
        "if documents:\n",
        "    print(f\"✅ Loaded {len(documents)} DIY snippets\")\n",
        "    categories = list(set(doc['metadata']['category'] for doc in documents))\n",
        "    print(f\"   Categories: {categories}\")\n",
        "    \n",
        "    # Show sample document\n",
        "    print(\"\\n📄 Sample document:\")\n",
        "    sample = documents[0]\n",
        "    print(f\"   ID: {sample['id']}\")\n",
        "    print(f\"   Category: {sample['metadata']['category']}\")\n",
        "    print(f\"   Text: {sample['text'][:100]}...\")\n",
        "else:\n",
        "    print(\"❌ Failed to load data\")\n"
      ]
    },
    {
      "cell_type": "markdown",
      "metadata": {},
      "source": [
        "## Step 2: Setup ChromaDB Collection\n",
        "Initialize ChromaDB and store the DIY documents.\n"
      ]
    },
    {
      "cell_type": "code",
      "execution_count": null,
      "metadata": {},
      "outputs": [],
      "source": [
        "# Import ChromaDB setup module\n",
        "from setup_chroma import setup_chroma_collection, store_documents, verify_collection\n",
        "\n",
        "print(\"🗄️ Setting up ChromaDB...\")\n",
        "\n",
        "# Setup collection\n",
        "client, collection = setup_chroma_collection(\"../chroma_db\")\n",
        "\n",
        "if collection:\n",
        "    print(\"✅ ChromaDB collection ready\")\n",
        "    \n",
        "    # Store documents\n",
        "    if store_documents(collection, documents):\n",
        "        print(\"✅ Documents stored in ChromaDB\")\n",
        "        \n",
        "        # Verify collection\n",
        "        verify_collection(collection)\n",
        "    else:\n",
        "        print(\"❌ Failed to store documents\")\n",
        "else:\n",
        "    print(\"❌ Failed to setup ChromaDB\")\n"
      ]
    },
    {
      "cell_type": "markdown",
      "metadata": {},
      "source": [
        "## Step 3: Generate Embeddings\n",
        "Create vector embeddings for semantic search.\n"
      ]
    },
    {
      "cell_type": "code",
      "execution_count": null,
      "metadata": {},
      "outputs": [],
      "source": [
        "# Import embedding generation module\n",
        "from generate_embeddings import generate_embeddings_for_documents, store_embeddings_in_chroma\n",
        "\n",
        "print(\"🧠 Generating embeddings...\")\n",
        "\n",
        "# Generate embeddings\n",
        "documents_with_embeddings = generate_embeddings_for_documents(documents)\n",
        "\n",
        "if documents_with_embeddings:\n",
        "    print(\"✅ Embeddings generated\")\n",
        "    print(f\"   Embedding dimensions: {len(documents_with_embeddings[0]['embedding'])}\")\n",
        "    \n",
        "    # Store embeddings\n",
        "    if store_embeddings_in_chroma(documents_with_embeddings):\n",
        "        print(\"✅ Embeddings stored in ChromaDB\")\n",
        "    else:\n",
        "        print(\"❌ Failed to store embeddings\")\n",
        "else:\n",
        "    print(\"❌ Failed to generate embeddings\")\n"
      ]
    },
    {
      "cell_type": "markdown",
      "metadata": {},
      "source": [
        "## Step 4: Test Semantic Search\n",
        "Query the system to find relevant DIY guidance.\n"
      ]
    },
    {
      "cell_type": "code",
      "execution_count": null,
      "metadata": {},
      "outputs": [],
      "source": [
        "# Import query system module\n",
        "from query_system import search_chroma\n",
        "\n",
        "print(\"🔍 Testing semantic search...\")\n",
        "\n",
        "# Test queries\n",
        "test_queries = [\n",
        "    \"how to fix a leaky faucet\",\n",
        "    \"what tools do I need for woodworking\",\n",
        "    \"how to paint a room properly\",\n",
        "    \"safety equipment for sanding\"\n",
        "]\n",
        "\n",
        "for query in test_queries:\n",
        "    print(f\"\\n🔍 Query: '{query}'\")\n",
        "    results = search_chroma(query, top_k=2)\n",
        "    \n",
        "    if results:\n",
        "        print(f\"✅ Found {len(results)} relevant snippets\")\n",
        "        for i, result in enumerate(results, 1):\n",
        "            print(f\"   {i}. {result['metadata']['category']} - {result['text'][:80]}...\")\n",
        "            print(f\"      Tools: {result['metadata']['tools_required']}\")\n",
        "    else:\n",
        "        print(\"❌ No results found\")\n"
      ]
    },
    {
      "cell_type": "markdown",
      "metadata": {},
      "source": [
        "## Interactive Query\n",
        "Try your own DIY questions!\n"
      ]
    },
    {
      "cell_type": "code",
      "execution_count": null,
      "metadata": {},
      "outputs": [],
      "source": [
        "# Interactive query function\n",
        "def ask_caliper(question):\n",
        "    \"\"\"Ask Caliper a DIY question\"\"\"\n",
        "    results = search_chroma(question, top_k=3)\n",
        "    \n",
        "    print(f\"\\n🔧 Caliper's Answer to: '{question}'\")\n",
        "    print(\"=\" * 50)\n",
        "    \n",
        "    if results:\n",
        "        for i, result in enumerate(results, 1):\n",
        "            print(f\"\\n{i}. {result['metadata']['category']} - ID: {result['id']}\")\n",
        "            print(f\"   Tools: {result['metadata']['tools_required']}\")\n",
        "            print(f\"   PPE: {result['metadata']['ppe_required']}\")\n",
        "            print(f\"   Content: {result['text']}\")\n",
        "            print(f\"   Relevance: {1 - result['distance']:.2f}\")\n",
        "    else:\n",
        "        print(\"Sorry, I couldn't find relevant DIY guidance for that question.\")\n",
        "\n",
        "# Try some questions\n",
        "ask_caliper(\"how do I install floating shelves?\")\n",
        "ask_caliper(\"what safety equipment do I need for refinishing furniture?\")\n"
      ]
    },
    {
      "cell_type": "markdown",
      "metadata": {},
      "source": [
        "## 🎉 Demo Complete!\n",
        "\n",
        "### What We Built\n",
        "- **Complete RAG system** for DIY project assistance\n",
        "- **Semantic search** using vector embeddings\n",
        "- **ChromaDB integration** for scalable storage\n",
        "- **Mock AI pipeline** ready for real API integration\n",
        "\n",
        "### Key Features\n",
        "- ✅ **Data ingestion** from CSV\n",
        "- ✅ **Vector storage** in ChromaDB\n",
        "- ✅ **Semantic search** with embeddings\n",
        "- ✅ **RAG queries** for relevant content\n",
        "- ✅ **Professional logging** and error handling\n",
        "\n",
        "### Next Steps\n",
        "- Add real OpenAI API integration\n",
        "- Scale to larger DIY datasets\n",
        "- Deploy to cloud infrastructure\n",
        "- Add user interface\n",
        "\n",
        "**Caliper-AI is ready to help DIY enthusiasts turn overwhelm into action!** 🚀\n"
      ]
    }
  ],
  "metadata": {
    "language_info": {
      "name": "python"
    }
  },
  "nbformat": 4,
  "nbformat_minor": 2
}
